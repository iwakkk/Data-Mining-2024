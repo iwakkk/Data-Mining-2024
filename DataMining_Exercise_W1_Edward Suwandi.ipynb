{
  "cells": [
    {
      "cell_type": "markdown",
      "metadata": {
        "id": "re8S5yd8u1eZ"
      },
      "source": [
        "<h2> Python Basics"
      ]
    },
    {
      "cell_type": "markdown",
      "metadata": {
        "id": "5H441cQou1ee"
      },
      "source": [
        "I. Cobalah print kalimat \"Hello, my name is ***nama anda***\" dengan minimal 2 cara: <br>\n",
        "a.   Print biasa (nama diletakkan langsung dalam string yang di print)<br>\n",
        "b.  Menggunakan variabel (nama disimpan dulu di variabel)<br>\n",
        "c.  Menggunakan operator dan variabel<br>\n",
        "d.  Menggunakan .format()"
      ]
    },
    {
      "cell_type": "code",
      "execution_count": 1,
      "metadata": {
        "id": "EJlHc6Ptu1ef",
        "colab": {
          "base_uri": "https://localhost:8080/"
        },
        "outputId": "f0c1b3d4-a5fa-4c1f-fd6e-7868895133f4"
      },
      "outputs": [
        {
          "output_type": "stream",
          "name": "stdout",
          "text": [
            "Hello, my name is Edward Suwandi\n",
            "Hello, my name is Edward Suwandi\n",
            "Hello, my name is Edward Suwandi\n",
            "Hello, my name is Edward Suwandi\n"
          ]
        }
      ],
      "source": [
        "# Nama\n",
        "#a.\n",
        "print (\"Hello, my name is Edward Suwandi\")\n",
        "\n",
        "#b\n",
        "nama = \"Hello, my name is Edward Suwandi\"\n",
        "print(nama)\n",
        "\n",
        "#c\n",
        "nama2 = \"Edward Suwandi\"\n",
        "print(\"Hello, my name is \" + nama2)\n",
        "\n",
        "#d\n",
        "nama3 = \"Edward Suwandi\"\n",
        "print(\"Hello, my name is {}\".format(nama3))\n",
        "\n"
      ]
    },
    {
      "cell_type": "markdown",
      "metadata": {
        "id": "ykD_f9Cfu1eg"
      },
      "source": [
        "II. Selesaikan soal cerita berikut menggunakan python:<br>\n",
        "a.  Jose membeli 4 kotak kelereng, tiap kotak berisi 15 buah kelereng. Kelereng itu akan dibagikan kepada 12 orang temannya, setiap teman akan mendapat ... kelereng.<br>\n",
        "b.  Hasil dari 8 pangkat 1/3 adalah ...<br>\n",
        "c.  Catharina memiliki uang sebesar Rp 50.000 untuk dibelanjakan kertas binder, 1 paket kertas binder isi 100 lembar dijual seharga 7500, jika ia ingin membeli berapa kertas binder yang dapat ia beli dengan uang yang ia punya? Berapa kembalian yang diterima?"
      ]
    },
    {
      "cell_type": "code",
      "execution_count": 2,
      "metadata": {
        "id": "HZMGFAk6u1eg",
        "colab": {
          "base_uri": "https://localhost:8080/"
        },
        "outputId": "76638cb7-1bda-4b74-d653-81081da7bf41"
      },
      "outputs": [
        {
          "output_type": "stream",
          "name": "stdout",
          "text": [
            "5.0\n",
            "2.0\n",
            "6\n",
            "5000\n"
          ]
        }
      ],
      "source": [
        "# Soal a\n",
        "Kotak = 4\n",
        "Isi = 15\n",
        "\n",
        "Jumlah = Kotak*Isi\n",
        "\n",
        "teman = 12\n",
        "\n",
        "perOrang = Jumlah / teman\n",
        "print(perOrang)\n",
        "\n",
        "# Soal b\n",
        "print(8**(1/3))\n",
        "\n",
        "# Soal c\n",
        "uang = 50000\n",
        "harga = 7500\n",
        "\n",
        "kertas = uang//harga\n",
        "kembalian = uang%harga\n",
        "print(kertas)\n",
        "print(kembalian)"
      ]
    },
    {
      "cell_type": "markdown",
      "metadata": {
        "id": "ogSVphwKu1eh"
      },
      "source": [
        "III. Tunjukan cara untuk mengonversi tipe-tipe data berikut:\n",
        "\n",
        "1. \"1000\" -> 1000 (string ke int)\n",
        "2. 5.25 -> 5 (float ke int)\n",
        "3. 5 -> 5.0 (int ke float)\n",
        "4. 1000 -> \"1000\" (int ke string)\n",
        "\n",
        "Expected output:\n",
        "\n",
        "\n",
        "![image.png](data:image/png;base64,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)"
      ]
    },
    {
      "cell_type": "code",
      "execution_count": 3,
      "metadata": {
        "id": "1380euOQu1ei",
        "colab": {
          "base_uri": "https://localhost:8080/"
        },
        "outputId": "cf8ad275-6385-41aa-8d6f-1a4d632af963"
      },
      "outputs": [
        {
          "output_type": "stream",
          "name": "stdout",
          "text": [
            "1000\n",
            "5\n",
            "5.0\n",
            "1000\n"
          ]
        }
      ],
      "source": [
        "# Konversi\n",
        "#1\n",
        "awal = \"1000\"\n",
        "akhir = int(awal)\n",
        "\n",
        "#2\n",
        "awal2 = 5.25\n",
        "akhir2 = int(awal2)\n",
        "\n",
        "#3\n",
        "awal3 = 5\n",
        "akhir3 = float(awal3)\n",
        "\n",
        "#4\n",
        "awal4 = 1000\n",
        "akhir4 = str(awal4)\n",
        "\n",
        "print(akhir)\n",
        "print(akhir2)\n",
        "print(akhir3)\n",
        "print(akhir4)"
      ]
    },
    {
      "cell_type": "markdown",
      "metadata": {
        "id": "DhXG-jySu1ej"
      },
      "source": [
        "IV. String\n",
        "\n",
        "\"If you want to know what a man's like, take a good look at how he treats his inferiors, not his equals.\"\n",
        "\n",
        "1. Tampilkan indeks ke 20 sampai 30 dari string di atas (indeks ke 30 ikut)\n",
        "2. Bagaimana cara memisah string berdasarkan spasi (simpan dalam list)\n",
        "3. Balik string di atas dengan menggunakan satu baris kode (menggunakan index)\n"
      ]
    },
    {
      "cell_type": "code",
      "execution_count": 4,
      "metadata": {
        "id": "kUE0OZhIu1ek",
        "colab": {
          "base_uri": "https://localhost:8080/"
        },
        "outputId": "fa4eed59-2e93-43ba-a959-2673db77467d"
      },
      "outputs": [
        {
          "output_type": "stream",
          "name": "stdout",
          "text": [
            "what a man'\n",
            "['If', 'you', 'want', 'to', 'know', 'what', 'a', \"man's\", 'like,', 'take', 'a', 'good', 'look', 'at', 'how', 'he', 'treats', 'his', 'inferiors,', 'not', 'his', 'equals.']\n",
            ".slauqe sih ton ,sroirefni sih staert eh woh ta kool doog a ekat ,ekil s'nam a tahw wonk ot tnaw uoy fI\n"
          ]
        }
      ],
      "source": [
        "kalimat = \"If you want to know what a man's like, take a good look at how he treats his inferiors, not his equals.\"\n",
        "\n",
        "# 1\n",
        "hasil = kalimat[20:31]\n",
        "print(hasil)\n",
        "\n",
        "# 2\n",
        "hasil2 = kalimat.split()\n",
        "print(hasil2)\n",
        "\n",
        "# 3\n",
        "hasil3 = kalimat[::-1]\n",
        "print(hasil3)\n"
      ]
    },
    {
      "cell_type": "markdown",
      "metadata": {
        "id": "PFAMzNc6u1el"
      },
      "source": [
        "<h2> Python Data Strcutures"
      ]
    },
    {
      "cell_type": "markdown",
      "metadata": {
        "id": "m9AKxWKzu1el"
      },
      "source": [
        "I. Tuple\n",
        "\n",
        "\n",
        "1.   Buatlah sebuah tuple yang berisikan nama fakultas di UC, simpan dalam variabel \"fakultas\".\n",
        "2.   Cetaklah jumlah fakultas di UC dengan mencari panjang tuple yang dibuat.\n",
        "3.   Gunakan .index() untuk mengetahui posisi/index fakultas SIFT"
      ]
    },
    {
      "cell_type": "code",
      "execution_count": 5,
      "metadata": {
        "colab": {
          "base_uri": "https://localhost:8080/"
        },
        "id": "sA1w4YBcu1em",
        "outputId": "b88afe2c-e267-4f59-dc69-8c572ae96bb1"
      },
      "outputs": [
        {
          "output_type": "stream",
          "name": "stdout",
          "text": [
            "10\n",
            "9\n"
          ]
        }
      ],
      "source": [
        "# Fakultas\n",
        "#1\n",
        "fakultas = (\"Fakultas1\", \"Fakultas2\", \"Fakultas3\", \"Fakultas4\", \"Fakultas5\", \"Fakultas6\", \"Fakultas7\", \"Fakultas8\", \"Fakultas9\", \"SIFT\")\n",
        "\n",
        "#2\n",
        "print(len(fakultas))\n",
        "\n",
        "#3\n",
        "index = fakultas.index(\"SIFT\")\n",
        "print(index)"
      ]
    },
    {
      "cell_type": "markdown",
      "metadata": {
        "id": "SiOS0ttQu1em"
      },
      "source": [
        "II. List\n",
        "\n",
        "\n",
        "1.   Buatlah sebuah list berisi 3 nama makanan kesukaanmu. Simpan dalam variabel \"favorit\".\n",
        "2.   Cetak nama setiap makanan dengan mengakses setiap elemen dalam list satu persatu.\n",
        "3. Kamu sedang berada di sebuah restoran dan hendak memesan salah satu menu yang ada dalam daftar favoritmu. Cetak setiap makanan dengan contoh: \"Aku ingin pesan {nama makanan}\"\n",
        "4.   Ternyata, salah satu menu tidak tersedia, jadi kamu perlu memesan makanan lain. Ganti salah satu makanan favoritmu yang kosong dengan nama makanan baru (makanan yang mana bebas). Cetak makanan favorit barumu dengan contoh: \"Aku ingin mengganti pesananku jadi {nama makanan baru}\""
      ]
    },
    {
      "cell_type": "code",
      "execution_count": 6,
      "metadata": {
        "colab": {
          "base_uri": "https://localhost:8080/"
        },
        "id": "9fuI3hJ7u1en",
        "outputId": "7242e597-bca8-4b9d-d126-422892ee0173"
      },
      "outputs": [
        {
          "output_type": "stream",
          "name": "stdout",
          "text": [
            "tahu\n",
            "tempe\n",
            "telur\n",
            "Aku ingin pesan tahu\n",
            "Aku ingin pesan tempe\n",
            "Aku ingin pesan telur\n",
            "Aku ingin mengganti pesananku jadi tuna\n"
          ]
        }
      ],
      "source": [
        "# 1\n",
        "favorit = [\"tahu\", \"tempe\", \"telur\"]\n",
        "\n",
        "# 2\n",
        "for makanan in favorit:\n",
        "  print(makanan)\n",
        "\n",
        "# 3\n",
        "for makan in favorit:\n",
        "  print (f\"Aku ingin pesan {makan}\")\n",
        "\n",
        "# 4\n",
        "favorit[2] = \"tuna\"\n",
        "print(f\"Aku ingin mengganti pesananku jadi {favorit[2]}\")\n",
        "\n"
      ]
    },
    {
      "cell_type": "markdown",
      "metadata": {
        "id": "YWl87pecu1en"
      },
      "source": [
        "III. Set\n",
        "\n",
        "1. Buatlah 4 buah set sebagai berikut\n",
        "\n",
        "\n",
        "    set1 = {1, 2, 3, 4}\n",
        "    set2 = {2, 4, 6, 8}\n",
        "    set3 = {5, 7}\n",
        "    set4 = {2, 3}\n",
        "2. Gabungkan set1 dan set2 dengan menghilangkan duplicates\n",
        "3. Buktikan set1 dan set3 tidak mempunyai intersection (output : Boolean)\n",
        "4. Buktikan set4 adalah bagian dari set1 (output : Boolean)"
      ]
    },
    {
      "cell_type": "code",
      "execution_count": 7,
      "metadata": {
        "id": "Qgx8YGSpu1en",
        "colab": {
          "base_uri": "https://localhost:8080/"
        },
        "outputId": "cf310be3-b8bb-4cdb-9027-1404fa43b99d"
      },
      "outputs": [
        {
          "output_type": "stream",
          "name": "stdout",
          "text": [
            "{1, 2, 3, 4, 6, 8}\n",
            "True\n",
            "True\n"
          ]
        }
      ],
      "source": [
        "# 1\n",
        "set1 = {1, 2, 3, 4}\n",
        "set2 = {2, 4, 6, 8}\n",
        "set3 = {5, 7}\n",
        "set4 = {2, 3}\n",
        "\n",
        "# 2\n",
        "gabungan = set1.union(set2)\n",
        "print(gabungan)\n",
        "\n",
        "# 3\n",
        "intersection = set1.intersection(set3)\n",
        "print(len(intersection) == 0)\n",
        "\n",
        "# 4\n",
        "no4 = set4.issubset(set1)\n",
        "print(no4)"
      ]
    },
    {
      "cell_type": "markdown",
      "metadata": {
        "id": "uhpPy3xWu1en"
      },
      "source": [
        "<h2> Python Programming Fundamentals"
      ]
    },
    {
      "cell_type": "markdown",
      "metadata": {
        "id": "OEgpX5aYu1eo"
      },
      "source": [
        "I. Buatlah sebuah program sederhana yang meminta inputan dari user berupa jumlah penggunaan listrik (munculkan error jika input selain angka) dan menghasilkan output berupa tarif yang harus dibayar dengan syarat sebagai berikut:\n",
        "\n",
        "PLN menerapkan pembayaran listrik perumahan dengan perhitungan sebagai berikut:\n",
        "* untuk golongan 1 (penggunaan <1000 kWh) tarif : Rp1000/kWh\n",
        "* untuk golongan 2 (penggunaan >= 1000 kWh) tarif : Rp2000/kWh\n",
        "\n",
        "Dengan syarat perhitungan:\n",
        "\n",
        "Minimum pembayaran adalah 100 kWh sedangkan untuk pemakaian 1000 kWh dan seterusnya tarifnya ditambah 10% dari total pembayaran.\n",
        "\n",
        "(Jika total penggunaan <100 kWh, maka akan dikenakan tarif 100 kWh)"
      ]
    },
    {
      "cell_type": "code",
      "execution_count": 8,
      "metadata": {
        "colab": {
          "base_uri": "https://localhost:8080/"
        },
        "id": "Q6vIyfIdu1eo",
        "outputId": "af0ab8bb-8f1c-4776-c47c-4473c328280d"
      },
      "outputs": [
        {
          "output_type": "stream",
          "name": "stdout",
          "text": [
            "Input jumlah penggunaan listrik (kWh) 2000\n",
            "4400000.0\n"
          ]
        }
      ],
      "source": [
        "# Program Bayar Listrik\n",
        "\n",
        "while True:\n",
        "  inputs = input(\"Input jumlah penggunaan listrik (kWh) \")\n",
        "\n",
        "  if not inputs.isdigit():\n",
        "    print(\"Input angka boss\")\n",
        "\n",
        "  else:\n",
        "    inputan = int(inputs)\n",
        "    if inputan < 100:\n",
        "      inputan = 100\n",
        "\n",
        "    if inputan < 1000:\n",
        "      hasil = inputan *1000\n",
        "    else:\n",
        "      hasil = inputan*2000 + (inputan*2000)/10\n",
        "\n",
        "    print(hasil)\n",
        "    break\n",
        "\n",
        "\n"
      ]
    },
    {
      "cell_type": "markdown",
      "metadata": {
        "id": "Bqp7xI2Nu1eo"
      },
      "source": [
        "II. Untuk Abdimas Oweek UC digunakan angkot dengan kapasitas 10 orang per angkot. Apabila terjadi kelebihan penumpang (walau hanya 1 orang), angkot yang digunakan ditambah 1. Tulislah program untuk menghitung jumlah angkot yang diperlukan bila jumlah pesertanya menggunakan input().\n",
        "\n",
        "Catatan, pastikan jika angka yang dimasukkan negatif, muncul peringatan \"Jumlah orang tidak bisa negatif!\""
      ]
    },
    {
      "cell_type": "code",
      "execution_count": 9,
      "metadata": {
        "id": "C8thFHRbu1ep",
        "colab": {
          "base_uri": "https://localhost:8080/",
          "height": 408
        },
        "outputId": "1d4a2073-0bed-40fa-83b1-4350c67a0c50"
      },
      "outputs": [
        {
          "output_type": "stream",
          "name": "stdout",
          "text": [
            "Input jumlah orang: 12\n",
            "2\n"
          ]
        },
        {
          "output_type": "error",
          "ename": "KeyboardInterrupt",
          "evalue": "Interrupted by user",
          "traceback": [
            "\u001b[0;31m---------------------------------------------------------------------------\u001b[0m",
            "\u001b[0;31mKeyboardInterrupt\u001b[0m                         Traceback (most recent call last)",
            "\u001b[0;32m<ipython-input-9-1bb987e96bef>\u001b[0m in \u001b[0;36m<cell line: 18>\u001b[0;34m()\u001b[0m\n\u001b[1;32m     17\u001b[0m \u001b[0;34m\u001b[0m\u001b[0m\n\u001b[1;32m     18\u001b[0m \u001b[0;32mwhile\u001b[0m \u001b[0;32mTrue\u001b[0m\u001b[0;34m:\u001b[0m\u001b[0;34m\u001b[0m\u001b[0;34m\u001b[0m\u001b[0m\n\u001b[0;32m---> 19\u001b[0;31m   \u001b[0minputs\u001b[0m \u001b[0;34m=\u001b[0m \u001b[0minput\u001b[0m\u001b[0;34m(\u001b[0m\u001b[0;34m\"Input jumlah orang: \"\u001b[0m\u001b[0;34m)\u001b[0m\u001b[0;34m\u001b[0m\u001b[0;34m\u001b[0m\u001b[0m\n\u001b[0m\u001b[1;32m     20\u001b[0m \u001b[0;34m\u001b[0m\u001b[0m\n\u001b[1;32m     21\u001b[0m   \u001b[0;32mif\u001b[0m \u001b[0;32mnot\u001b[0m \u001b[0minputs\u001b[0m\u001b[0;34m.\u001b[0m\u001b[0misdigit\u001b[0m\u001b[0;34m(\u001b[0m\u001b[0;34m)\u001b[0m\u001b[0;34m:\u001b[0m\u001b[0;34m\u001b[0m\u001b[0;34m\u001b[0m\u001b[0m\n",
            "\u001b[0;32m/usr/local/lib/python3.10/dist-packages/ipykernel/kernelbase.py\u001b[0m in \u001b[0;36mraw_input\u001b[0;34m(self, prompt)\u001b[0m\n\u001b[1;32m    849\u001b[0m                 \u001b[0;34m\"raw_input was called, but this frontend does not support input requests.\"\u001b[0m\u001b[0;34m\u001b[0m\u001b[0;34m\u001b[0m\u001b[0m\n\u001b[1;32m    850\u001b[0m             )\n\u001b[0;32m--> 851\u001b[0;31m         return self._input_request(str(prompt),\n\u001b[0m\u001b[1;32m    852\u001b[0m             \u001b[0mself\u001b[0m\u001b[0;34m.\u001b[0m\u001b[0m_parent_ident\u001b[0m\u001b[0;34m,\u001b[0m\u001b[0;34m\u001b[0m\u001b[0;34m\u001b[0m\u001b[0m\n\u001b[1;32m    853\u001b[0m             \u001b[0mself\u001b[0m\u001b[0;34m.\u001b[0m\u001b[0m_parent_header\u001b[0m\u001b[0;34m,\u001b[0m\u001b[0;34m\u001b[0m\u001b[0;34m\u001b[0m\u001b[0m\n",
            "\u001b[0;32m/usr/local/lib/python3.10/dist-packages/ipykernel/kernelbase.py\u001b[0m in \u001b[0;36m_input_request\u001b[0;34m(self, prompt, ident, parent, password)\u001b[0m\n\u001b[1;32m    893\u001b[0m             \u001b[0;32mexcept\u001b[0m \u001b[0mKeyboardInterrupt\u001b[0m\u001b[0;34m:\u001b[0m\u001b[0;34m\u001b[0m\u001b[0;34m\u001b[0m\u001b[0m\n\u001b[1;32m    894\u001b[0m                 \u001b[0;31m# re-raise KeyboardInterrupt, to truncate traceback\u001b[0m\u001b[0;34m\u001b[0m\u001b[0;34m\u001b[0m\u001b[0m\n\u001b[0;32m--> 895\u001b[0;31m                 \u001b[0;32mraise\u001b[0m \u001b[0mKeyboardInterrupt\u001b[0m\u001b[0;34m(\u001b[0m\u001b[0;34m\"Interrupted by user\"\u001b[0m\u001b[0;34m)\u001b[0m \u001b[0;32mfrom\u001b[0m \u001b[0;32mNone\u001b[0m\u001b[0;34m\u001b[0m\u001b[0;34m\u001b[0m\u001b[0m\n\u001b[0m\u001b[1;32m    896\u001b[0m             \u001b[0;32mexcept\u001b[0m \u001b[0mException\u001b[0m \u001b[0;32mas\u001b[0m \u001b[0me\u001b[0m\u001b[0;34m:\u001b[0m\u001b[0;34m\u001b[0m\u001b[0;34m\u001b[0m\u001b[0m\n\u001b[1;32m    897\u001b[0m                 \u001b[0mself\u001b[0m\u001b[0;34m.\u001b[0m\u001b[0mlog\u001b[0m\u001b[0;34m.\u001b[0m\u001b[0mwarning\u001b[0m\u001b[0;34m(\u001b[0m\u001b[0;34m\"Invalid Message:\"\u001b[0m\u001b[0;34m,\u001b[0m \u001b[0mexc_info\u001b[0m\u001b[0;34m=\u001b[0m\u001b[0;32mTrue\u001b[0m\u001b[0;34m)\u001b[0m\u001b[0;34m\u001b[0m\u001b[0;34m\u001b[0m\u001b[0m\n",
            "\u001b[0;31mKeyboardInterrupt\u001b[0m: Interrupted by user"
          ]
        }
      ],
      "source": [
        "# Program Angkot Abdimas UC\n",
        "# while True:\n",
        "#   user_input = input(\"Input jumlah orang: \")\n",
        "\n",
        "\n",
        "\n",
        "#   if input < 0:\n",
        "#     print(\"Jumlah orang tidak bisa negatif\")\n",
        "#   else:\n",
        "\n",
        "#     if inputs % 10 == 0:\n",
        "#       hasil = inputs//10\n",
        "#     else:\n",
        "#       hasil = inputs//10 + 1\n",
        "\n",
        "#     print(hasil)\n",
        "\n",
        "while True:\n",
        "  inputs = input(\"Input jumlah orang: \")\n",
        "\n",
        "  if not inputs.isdigit():\n",
        "    print(\"Input angka boss\")\n",
        "\n",
        "  else:\n",
        "    inputan = int(inputs)\n",
        "    if inputan < 0:\n",
        "     print(\"Jumlah orang tidak bisa negatif\")\n",
        "    else:\n",
        "\n",
        "      if inputan % 10 == 0:\n",
        "        hasil = inputan//10\n",
        "      else:\n",
        "       hasil = inputan//10 + 1\n",
        "      print(hasil)\n",
        "\n"
      ]
    },
    {
      "cell_type": "markdown",
      "metadata": {
        "id": "zmpc0H2cu1ep"
      },
      "source": [
        "<h2> Numpy"
      ]
    },
    {
      "cell_type": "markdown",
      "metadata": {
        "id": "NH_6KTdZu1ep"
      },
      "source": [
        "1. Buatlah 1D numpy array berisi nama nama hari dalam satu minggu\n",
        "2. Gunakan sort untuk mengurutkan array sesuai abjad\n",
        "3. Gunakan random untuk mengambil 1 hari dari array, cetakhlah dalam format: \"Selamat hari \\<nama hari\\> adalah hari baikmu bulan ini!\"\n",
        "4. Buat dan cetaklah matriks 3x4 menggunakan numpy array berisi angka random dari 1-6, lalu cetak shape dan dimensi array\n",
        "5. Cetaklah elemen kolom ketiga dari matrix\n",
        "\n",
        "    [[1 ,2, 3, 4],\n",
        "\n",
        "    [5, 6, 7, 8],\n",
        "\n",
        "    [9, 10, 11, 12]]\n",
        "6. Gunakan reshape untuk mengubah matrix di atas menjadi matriks berukuran (2, 6)"
      ]
    },
    {
      "cell_type": "code",
      "execution_count": 10,
      "metadata": {
        "id": "7u2L4rYWu1ep"
      },
      "outputs": [],
      "source": [
        "import numpy as np\n",
        "\n",
        "# 1\n",
        "hari = [\"senin\", \"selasa\", \"rabu\", \"kamis\", \"jumat\", \"sabtu\", \"minggu\"]\n"
      ]
    },
    {
      "cell_type": "code",
      "source": [
        "# 2\n",
        "hari = [\"senin\", \"selasa\", \"rabu\", \"kamis\", \"jumat\", \"sabtu\", \"minggu\"]\n",
        "hari2 = sorted(hari)\n",
        "print(hari2)"
      ],
      "metadata": {
        "id": "7aI1VcHsInbd",
        "colab": {
          "base_uri": "https://localhost:8080/"
        },
        "outputId": "a68ea3ef-9d24-4e17-98ec-126b5f5a946d"
      },
      "execution_count": 11,
      "outputs": [
        {
          "output_type": "stream",
          "name": "stdout",
          "text": [
            "['jumat', 'kamis', 'minggu', 'rabu', 'sabtu', 'selasa', 'senin']\n"
          ]
        }
      ]
    },
    {
      "cell_type": "code",
      "source": [
        "# 3\n",
        "hari = [\"senin\", \"selasa\", \"rabu\", \"kamis\", \"jumat\", \"sabtu\", \"minggu\"]\n",
        "random = np.random.choice(hari)\n",
        "print(\"Random day :\", random)"
      ],
      "metadata": {
        "id": "1KahrwRLIo9j",
        "colab": {
          "base_uri": "https://localhost:8080/"
        },
        "outputId": "f710d7ce-b5bc-4393-c47a-263cfb0d4b74"
      },
      "execution_count": 12,
      "outputs": [
        {
          "output_type": "stream",
          "name": "stdout",
          "text": [
            "Random day : jumat\n"
          ]
        }
      ]
    },
    {
      "cell_type": "code",
      "source": [
        "# 4\n",
        "matriks = np.random.randint(1, 7, size=(3, 4))\n",
        "print(matriks)"
      ],
      "metadata": {
        "id": "9i8pmTJxIqwg",
        "colab": {
          "base_uri": "https://localhost:8080/"
        },
        "outputId": "59eac40f-1f24-43ad-be66-439bbc5ca4e7"
      },
      "execution_count": 13,
      "outputs": [
        {
          "output_type": "stream",
          "name": "stdout",
          "text": [
            "[[1 6 4 6]\n",
            " [2 2 4 1]\n",
            " [3 5 5 3]]\n"
          ]
        }
      ]
    },
    {
      "cell_type": "code",
      "execution_count": null,
      "metadata": {
        "id": "deanH7rbNQDz"
      },
      "outputs": [],
      "source": [
        "# 5\n",
        "matriks = np.array([[1, 2, 3, 4],\n",
        "                    [5, 6, 7, 8],\n",
        "                    [9, 10, 11, 12]])\n",
        "\n",
        "# Mencetak elemen kolom ketiga (indeks 2)\n",
        "kolom_ketiga = matriks[:, 2]\n",
        "print(\"Elemen kolom ketiga:\", kolom_ketiga)"
      ]
    },
    {
      "cell_type": "code",
      "source": [
        "# 6\n",
        "matriks = np.array([[1, 2, 3, 4],\n",
        "                    [5, 6, 7, 8],\n",
        "                    [9, 10, 11, 12]])\n",
        "\n",
        "# Mengubah ukuran matriks menjadi (2, 6)\n",
        "matriks_reshaped = matriks.reshape(2, 6)\n",
        "\n",
        "# Mencetak matriks yang telah diubah\n",
        "print(\"Matriks setelah reshape (2, 6):\")\n",
        "print(matriks_reshaped)"
      ],
      "metadata": {
        "id": "8SDYNL0-IxIE"
      },
      "execution_count": null,
      "outputs": []
    },
    {
      "cell_type": "markdown",
      "metadata": {
        "id": "IJ-xiFGCu1ep"
      },
      "source": [
        "<h2> Pandas"
      ]
    },
    {
      "cell_type": "markdown",
      "metadata": {
        "id": "W1GPuTsQu1eq"
      },
      "source": [
        "1. Buatlah Pandas Series dari list [\"Information\", \"Systems\", \"for\", \"Business\"]\n",
        "2. Buatlah Pandas Dataframe dari dictionary\n",
        "{ \"brand\": \"Ford\", \"model\": \"Mustang\", \"year\": 1964 }"
      ]
    },
    {
      "cell_type": "code",
      "execution_count": 14,
      "metadata": {
        "id": "btISSDM7u1eq",
        "colab": {
          "base_uri": "https://localhost:8080/"
        },
        "outputId": "5f175f5c-a1f3-446d-a11c-3c603ec4ef2d"
      },
      "outputs": [
        {
          "output_type": "stream",
          "name": "stdout",
          "text": [
            "0    Information\n",
            "1        Systems\n",
            "2            for\n",
            "3       Business\n",
            "dtype: object\n",
            "  brand    model  year\n",
            "0  Ford  Mustang  1964\n"
          ]
        }
      ],
      "source": [
        "import pandas as pd\n",
        "\n",
        "# 1\n",
        "data = [\"Information\", \"Systems\", \"for\", \"Business\"]\n",
        "series = pd.Series(data)\n",
        "print(series)\n",
        "\n",
        "# 2\n",
        "data2 = {\"brand\": \"Ford\", \"model\": \"Mustang\", \"year\": 1964}\n",
        "dataframe = pd.DataFrame([data2])\n",
        "print(dataframe)"
      ]
    },
    {
      "cell_type": "markdown",
      "metadata": {
        "id": "K6iLqp69u1eq"
      },
      "source": [
        "3. Import dataset berikut kedalam dataframe.    \n",
        "dataset : https://raw.githubusercontent.com/GTerrence/dataset/main/50_Startups.csv.xls\n",
        "4. Tunjukan kota apa saja yang ada dalam dataset tersebut\n",
        "5. Buatlah dataset baru yang menyimpan 10 row random dari dataset. Kemudian tunjukanlah 5 row pertamanya.\n",
        "6. Gunakan df.info() untuk melihat informasi singkat dari dataframe\n",
        "7. Tampilkan data 'R&D Spend' dan 'Marketing Spend' dari data yang berasal dari kota 'California'\n",
        "8. Temukan apa ada missing value dari setiap kolom\n",
        "9. Drop data yang memiliki profit di bawah 50000\n",
        "10. Urutkan Dataframe berdasarkan biaya marketing mulai dari terbesar ke terkecil"
      ]
    },
    {
      "cell_type": "code",
      "execution_count": null,
      "metadata": {
        "id": "Zz-a6B-Au1er"
      },
      "outputs": [],
      "source": [
        "# 3\n",
        "import pandas as pd\n",
        "df = pd.read_csv('https://raw.githubusercontent.com/GTerrence/dataset/main/50_Startups.csv.xls')\n",
        "\n",
        "df.head(5)"
      ]
    },
    {
      "cell_type": "code",
      "execution_count": null,
      "metadata": {
        "id": "8hsqamWrCimw"
      },
      "outputs": [],
      "source": [
        "# 4\n",
        "city = df[\"State\"].unique()\n",
        "print(city)"
      ]
    },
    {
      "cell_type": "code",
      "execution_count": null,
      "metadata": {
        "id": "xCcT75YOCmX3"
      },
      "outputs": [],
      "source": [
        "# 5\n",
        "sample = df.sample(n=10)\n",
        "\n",
        "sample.head(5)"
      ]
    },
    {
      "cell_type": "code",
      "execution_count": null,
      "metadata": {
        "id": "kgHgGEVoCqGR"
      },
      "outputs": [],
      "source": [
        "# 6\n",
        "df.info()"
      ]
    },
    {
      "cell_type": "code",
      "execution_count": null,
      "metadata": {
        "id": "Mc3zul5PA2TD"
      },
      "outputs": [],
      "source": [
        "# 7\n",
        "california_data = df[df['State'] == 'California'][['R&D Spend', 'Marketing Spend']]\n",
        "print(california_data)"
      ]
    },
    {
      "cell_type": "code",
      "execution_count": null,
      "metadata": {
        "id": "M1SY-gGACRy0"
      },
      "outputs": [],
      "source": [
        "# 8\n",
        "missing_values = df.isnull().sum()\n",
        "print(missing_values)"
      ]
    },
    {
      "cell_type": "code",
      "execution_count": null,
      "metadata": {
        "id": "XS3SV8--CeLJ"
      },
      "outputs": [],
      "source": [
        "# 9\n",
        "filtered = df[df['Profit'] >= 50000]\n",
        "print(filtered.head())"
      ]
    },
    {
      "cell_type": "code",
      "execution_count": null,
      "metadata": {
        "id": "mbt-zuboEm3A"
      },
      "outputs": [],
      "source": [
        "# 10\n",
        "sorted_df = df.sort_values(by='Marketing Spend', ascending=True)\n",
        "print(sorted_df.head())"
      ]
    },
    {
      "cell_type": "markdown",
      "metadata": {
        "id": "4OfOaA0xu1er"
      },
      "source": [
        "<h2> Data Cleaning"
      ]
    },
    {
      "cell_type": "markdown",
      "metadata": {
        "id": "Krb_r6quu1es"
      },
      "source": [
        "1. Import dataset berikut ke dalam dataframe.   \n",
        "   dataset : https://raw.githubusercontent.com/GTerrence/dataset/main/real_estate.csv\n",
        "2. Tampilkan 10 data random dari dataset di atas\n",
        "3. Cari informasi data dengan menggunakan fungsi describe\n",
        "4. Hapus kolom 'No' dan ubahlah nama kolom dalam dataframe menjadi 'transaction_date', 'house_age', 'distance_to_the_nearest_MRT_station', 'number_of_convinience_stores', 'latitude', 'longitude', 'house_price_of_unit_area'\n",
        "5. Cek apakah ada missing values dari masing-masing kolom"
      ]
    },
    {
      "cell_type": "code",
      "execution_count": 15,
      "metadata": {
        "id": "NAl8hGLHu1es"
      },
      "outputs": [],
      "source": [
        "# 1\n",
        "url = \"https://raw.githubusercontent.com/GTerrence/dataset/main/real_estate.csv\"\n",
        "df = pd.read_csv(url)"
      ]
    },
    {
      "cell_type": "code",
      "execution_count": 16,
      "metadata": {
        "id": "YWjZAHGdFXhK",
        "colab": {
          "base_uri": "https://localhost:8080/",
          "height": 380
        },
        "outputId": "6176b559-a49a-4a3b-f148-505c0b760666"
      },
      "outputs": [
        {
          "output_type": "execute_result",
          "data": {
            "text/plain": [
              "   No  X1 transaction date  X2 house age  \\\n",
              "0   1             2012.917          32.0   \n",
              "1   2             2012.917          19.5   \n",
              "2   3             2013.583          13.3   \n",
              "3   4             2013.500          13.3   \n",
              "4   5             2012.833           5.0   \n",
              "5   6             2012.667           7.1   \n",
              "6   7             2012.667          34.5   \n",
              "7   8             2013.417          20.3   \n",
              "8   9             2013.500          31.7   \n",
              "9  10             2013.417          17.9   \n",
              "\n",
              "   X3 distance to the nearest MRT station  X4 number of convenience stores  \\\n",
              "0                                84.87882                               10   \n",
              "1                               306.59470                                9   \n",
              "2                               561.98450                                5   \n",
              "3                               561.98450                                5   \n",
              "4                               390.56840                                5   \n",
              "5                              2175.03000                                3   \n",
              "6                               623.47310                                7   \n",
              "7                               287.60250                                6   \n",
              "8                              5512.03800                                1   \n",
              "9                              1783.18000                                3   \n",
              "\n",
              "   X5 latitude  X6 longitude  Y house price of unit area  \n",
              "0     24.98298     121.54024                        37.9  \n",
              "1     24.98034     121.53951                        42.2  \n",
              "2     24.98746     121.54391                        47.3  \n",
              "3     24.98746     121.54391                        54.8  \n",
              "4     24.97937     121.54245                        43.1  \n",
              "5     24.96305     121.51254                        32.1  \n",
              "6     24.97933     121.53642                        40.3  \n",
              "7     24.98042     121.54228                        46.7  \n",
              "8     24.95095     121.48458                        18.8  \n",
              "9     24.96731     121.51486                        22.1  "
            ],
            "text/html": [
              "\n",
              "  <div id=\"df-ad0eaf8b-5952-4cbc-8b5b-645eca8727b6\" class=\"colab-df-container\">\n",
              "    <div>\n",
              "<style scoped>\n",
              "    .dataframe tbody tr th:only-of-type {\n",
              "        vertical-align: middle;\n",
              "    }\n",
              "\n",
              "    .dataframe tbody tr th {\n",
              "        vertical-align: top;\n",
              "    }\n",
              "\n",
              "    .dataframe thead th {\n",
              "        text-align: right;\n",
              "    }\n",
              "</style>\n",
              "<table border=\"1\" class=\"dataframe\">\n",
              "  <thead>\n",
              "    <tr style=\"text-align: right;\">\n",
              "      <th></th>\n",
              "      <th>No</th>\n",
              "      <th>X1 transaction date</th>\n",
              "      <th>X2 house age</th>\n",
              "      <th>X3 distance to the nearest MRT station</th>\n",
              "      <th>X4 number of convenience stores</th>\n",
              "      <th>X5 latitude</th>\n",
              "      <th>X6 longitude</th>\n",
              "      <th>Y house price of unit area</th>\n",
              "    </tr>\n",
              "  </thead>\n",
              "  <tbody>\n",
              "    <tr>\n",
              "      <th>0</th>\n",
              "      <td>1</td>\n",
              "      <td>2012.917</td>\n",
              "      <td>32.0</td>\n",
              "      <td>84.87882</td>\n",
              "      <td>10</td>\n",
              "      <td>24.98298</td>\n",
              "      <td>121.54024</td>\n",
              "      <td>37.9</td>\n",
              "    </tr>\n",
              "    <tr>\n",
              "      <th>1</th>\n",
              "      <td>2</td>\n",
              "      <td>2012.917</td>\n",
              "      <td>19.5</td>\n",
              "      <td>306.59470</td>\n",
              "      <td>9</td>\n",
              "      <td>24.98034</td>\n",
              "      <td>121.53951</td>\n",
              "      <td>42.2</td>\n",
              "    </tr>\n",
              "    <tr>\n",
              "      <th>2</th>\n",
              "      <td>3</td>\n",
              "      <td>2013.583</td>\n",
              "      <td>13.3</td>\n",
              "      <td>561.98450</td>\n",
              "      <td>5</td>\n",
              "      <td>24.98746</td>\n",
              "      <td>121.54391</td>\n",
              "      <td>47.3</td>\n",
              "    </tr>\n",
              "    <tr>\n",
              "      <th>3</th>\n",
              "      <td>4</td>\n",
              "      <td>2013.500</td>\n",
              "      <td>13.3</td>\n",
              "      <td>561.98450</td>\n",
              "      <td>5</td>\n",
              "      <td>24.98746</td>\n",
              "      <td>121.54391</td>\n",
              "      <td>54.8</td>\n",
              "    </tr>\n",
              "    <tr>\n",
              "      <th>4</th>\n",
              "      <td>5</td>\n",
              "      <td>2012.833</td>\n",
              "      <td>5.0</td>\n",
              "      <td>390.56840</td>\n",
              "      <td>5</td>\n",
              "      <td>24.97937</td>\n",
              "      <td>121.54245</td>\n",
              "      <td>43.1</td>\n",
              "    </tr>\n",
              "    <tr>\n",
              "      <th>5</th>\n",
              "      <td>6</td>\n",
              "      <td>2012.667</td>\n",
              "      <td>7.1</td>\n",
              "      <td>2175.03000</td>\n",
              "      <td>3</td>\n",
              "      <td>24.96305</td>\n",
              "      <td>121.51254</td>\n",
              "      <td>32.1</td>\n",
              "    </tr>\n",
              "    <tr>\n",
              "      <th>6</th>\n",
              "      <td>7</td>\n",
              "      <td>2012.667</td>\n",
              "      <td>34.5</td>\n",
              "      <td>623.47310</td>\n",
              "      <td>7</td>\n",
              "      <td>24.97933</td>\n",
              "      <td>121.53642</td>\n",
              "      <td>40.3</td>\n",
              "    </tr>\n",
              "    <tr>\n",
              "      <th>7</th>\n",
              "      <td>8</td>\n",
              "      <td>2013.417</td>\n",
              "      <td>20.3</td>\n",
              "      <td>287.60250</td>\n",
              "      <td>6</td>\n",
              "      <td>24.98042</td>\n",
              "      <td>121.54228</td>\n",
              "      <td>46.7</td>\n",
              "    </tr>\n",
              "    <tr>\n",
              "      <th>8</th>\n",
              "      <td>9</td>\n",
              "      <td>2013.500</td>\n",
              "      <td>31.7</td>\n",
              "      <td>5512.03800</td>\n",
              "      <td>1</td>\n",
              "      <td>24.95095</td>\n",
              "      <td>121.48458</td>\n",
              "      <td>18.8</td>\n",
              "    </tr>\n",
              "    <tr>\n",
              "      <th>9</th>\n",
              "      <td>10</td>\n",
              "      <td>2013.417</td>\n",
              "      <td>17.9</td>\n",
              "      <td>1783.18000</td>\n",
              "      <td>3</td>\n",
              "      <td>24.96731</td>\n",
              "      <td>121.51486</td>\n",
              "      <td>22.1</td>\n",
              "    </tr>\n",
              "  </tbody>\n",
              "</table>\n",
              "</div>\n",
              "    <div class=\"colab-df-buttons\">\n",
              "\n",
              "  <div class=\"colab-df-container\">\n",
              "    <button class=\"colab-df-convert\" onclick=\"convertToInteractive('df-ad0eaf8b-5952-4cbc-8b5b-645eca8727b6')\"\n",
              "            title=\"Convert this dataframe to an interactive table.\"\n",
              "            style=\"display:none;\">\n",
              "\n",
              "  <svg xmlns=\"http://www.w3.org/2000/svg\" height=\"24px\" viewBox=\"0 -960 960 960\">\n",
              "    <path d=\"M120-120v-720h720v720H120Zm60-500h600v-160H180v160Zm220 220h160v-160H400v160Zm0 220h160v-160H400v160ZM180-400h160v-160H180v160Zm440 0h160v-160H620v160ZM180-180h160v-160H180v160Zm440 0h160v-160H620v160Z\"/>\n",
              "  </svg>\n",
              "    </button>\n",
              "\n",
              "  <style>\n",
              "    .colab-df-container {\n",
              "      display:flex;\n",
              "      gap: 12px;\n",
              "    }\n",
              "\n",
              "    .colab-df-convert {\n",
              "      background-color: #E8F0FE;\n",
              "      border: none;\n",
              "      border-radius: 50%;\n",
              "      cursor: pointer;\n",
              "      display: none;\n",
              "      fill: #1967D2;\n",
              "      height: 32px;\n",
              "      padding: 0 0 0 0;\n",
              "      width: 32px;\n",
              "    }\n",
              "\n",
              "    .colab-df-convert:hover {\n",
              "      background-color: #E2EBFA;\n",
              "      box-shadow: 0px 1px 2px rgba(60, 64, 67, 0.3), 0px 1px 3px 1px rgba(60, 64, 67, 0.15);\n",
              "      fill: #174EA6;\n",
              "    }\n",
              "\n",
              "    .colab-df-buttons div {\n",
              "      margin-bottom: 4px;\n",
              "    }\n",
              "\n",
              "    [theme=dark] .colab-df-convert {\n",
              "      background-color: #3B4455;\n",
              "      fill: #D2E3FC;\n",
              "    }\n",
              "\n",
              "    [theme=dark] .colab-df-convert:hover {\n",
              "      background-color: #434B5C;\n",
              "      box-shadow: 0px 1px 3px 1px rgba(0, 0, 0, 0.15);\n",
              "      filter: drop-shadow(0px 1px 2px rgba(0, 0, 0, 0.3));\n",
              "      fill: #FFFFFF;\n",
              "    }\n",
              "  </style>\n",
              "\n",
              "    <script>\n",
              "      const buttonEl =\n",
              "        document.querySelector('#df-ad0eaf8b-5952-4cbc-8b5b-645eca8727b6 button.colab-df-convert');\n",
              "      buttonEl.style.display =\n",
              "        google.colab.kernel.accessAllowed ? 'block' : 'none';\n",
              "\n",
              "      async function convertToInteractive(key) {\n",
              "        const element = document.querySelector('#df-ad0eaf8b-5952-4cbc-8b5b-645eca8727b6');\n",
              "        const dataTable =\n",
              "          await google.colab.kernel.invokeFunction('convertToInteractive',\n",
              "                                                    [key], {});\n",
              "        if (!dataTable) return;\n",
              "\n",
              "        const docLinkHtml = 'Like what you see? Visit the ' +\n",
              "          '<a target=\"_blank\" href=https://colab.research.google.com/notebooks/data_table.ipynb>data table notebook</a>'\n",
              "          + ' to learn more about interactive tables.';\n",
              "        element.innerHTML = '';\n",
              "        dataTable['output_type'] = 'display_data';\n",
              "        await google.colab.output.renderOutput(dataTable, element);\n",
              "        const docLink = document.createElement('div');\n",
              "        docLink.innerHTML = docLinkHtml;\n",
              "        element.appendChild(docLink);\n",
              "      }\n",
              "    </script>\n",
              "  </div>\n",
              "\n",
              "\n",
              "<div id=\"df-5a8af387-b75f-40fd-9898-9f3abe574029\">\n",
              "  <button class=\"colab-df-quickchart\" onclick=\"quickchart('df-5a8af387-b75f-40fd-9898-9f3abe574029')\"\n",
              "            title=\"Suggest charts\"\n",
              "            style=\"display:none;\">\n",
              "\n",
              "<svg xmlns=\"http://www.w3.org/2000/svg\" height=\"24px\"viewBox=\"0 0 24 24\"\n",
              "     width=\"24px\">\n",
              "    <g>\n",
              "        <path d=\"M19 3H5c-1.1 0-2 .9-2 2v14c0 1.1.9 2 2 2h14c1.1 0 2-.9 2-2V5c0-1.1-.9-2-2-2zM9 17H7v-7h2v7zm4 0h-2V7h2v10zm4 0h-2v-4h2v4z\"/>\n",
              "    </g>\n",
              "</svg>\n",
              "  </button>\n",
              "\n",
              "<style>\n",
              "  .colab-df-quickchart {\n",
              "      --bg-color: #E8F0FE;\n",
              "      --fill-color: #1967D2;\n",
              "      --hover-bg-color: #E2EBFA;\n",
              "      --hover-fill-color: #174EA6;\n",
              "      --disabled-fill-color: #AAA;\n",
              "      --disabled-bg-color: #DDD;\n",
              "  }\n",
              "\n",
              "  [theme=dark] .colab-df-quickchart {\n",
              "      --bg-color: #3B4455;\n",
              "      --fill-color: #D2E3FC;\n",
              "      --hover-bg-color: #434B5C;\n",
              "      --hover-fill-color: #FFFFFF;\n",
              "      --disabled-bg-color: #3B4455;\n",
              "      --disabled-fill-color: #666;\n",
              "  }\n",
              "\n",
              "  .colab-df-quickchart {\n",
              "    background-color: var(--bg-color);\n",
              "    border: none;\n",
              "    border-radius: 50%;\n",
              "    cursor: pointer;\n",
              "    display: none;\n",
              "    fill: var(--fill-color);\n",
              "    height: 32px;\n",
              "    padding: 0;\n",
              "    width: 32px;\n",
              "  }\n",
              "\n",
              "  .colab-df-quickchart:hover {\n",
              "    background-color: var(--hover-bg-color);\n",
              "    box-shadow: 0 1px 2px rgba(60, 64, 67, 0.3), 0 1px 3px 1px rgba(60, 64, 67, 0.15);\n",
              "    fill: var(--button-hover-fill-color);\n",
              "  }\n",
              "\n",
              "  .colab-df-quickchart-complete:disabled,\n",
              "  .colab-df-quickchart-complete:disabled:hover {\n",
              "    background-color: var(--disabled-bg-color);\n",
              "    fill: var(--disabled-fill-color);\n",
              "    box-shadow: none;\n",
              "  }\n",
              "\n",
              "  .colab-df-spinner {\n",
              "    border: 2px solid var(--fill-color);\n",
              "    border-color: transparent;\n",
              "    border-bottom-color: var(--fill-color);\n",
              "    animation:\n",
              "      spin 1s steps(1) infinite;\n",
              "  }\n",
              "\n",
              "  @keyframes spin {\n",
              "    0% {\n",
              "      border-color: transparent;\n",
              "      border-bottom-color: var(--fill-color);\n",
              "      border-left-color: var(--fill-color);\n",
              "    }\n",
              "    20% {\n",
              "      border-color: transparent;\n",
              "      border-left-color: var(--fill-color);\n",
              "      border-top-color: var(--fill-color);\n",
              "    }\n",
              "    30% {\n",
              "      border-color: transparent;\n",
              "      border-left-color: var(--fill-color);\n",
              "      border-top-color: var(--fill-color);\n",
              "      border-right-color: var(--fill-color);\n",
              "    }\n",
              "    40% {\n",
              "      border-color: transparent;\n",
              "      border-right-color: var(--fill-color);\n",
              "      border-top-color: var(--fill-color);\n",
              "    }\n",
              "    60% {\n",
              "      border-color: transparent;\n",
              "      border-right-color: var(--fill-color);\n",
              "    }\n",
              "    80% {\n",
              "      border-color: transparent;\n",
              "      border-right-color: var(--fill-color);\n",
              "      border-bottom-color: var(--fill-color);\n",
              "    }\n",
              "    90% {\n",
              "      border-color: transparent;\n",
              "      border-bottom-color: var(--fill-color);\n",
              "    }\n",
              "  }\n",
              "</style>\n",
              "\n",
              "  <script>\n",
              "    async function quickchart(key) {\n",
              "      const quickchartButtonEl =\n",
              "        document.querySelector('#' + key + ' button');\n",
              "      quickchartButtonEl.disabled = true;  // To prevent multiple clicks.\n",
              "      quickchartButtonEl.classList.add('colab-df-spinner');\n",
              "      try {\n",
              "        const charts = await google.colab.kernel.invokeFunction(\n",
              "            'suggestCharts', [key], {});\n",
              "      } catch (error) {\n",
              "        console.error('Error during call to suggestCharts:', error);\n",
              "      }\n",
              "      quickchartButtonEl.classList.remove('colab-df-spinner');\n",
              "      quickchartButtonEl.classList.add('colab-df-quickchart-complete');\n",
              "    }\n",
              "    (() => {\n",
              "      let quickchartButtonEl =\n",
              "        document.querySelector('#df-5a8af387-b75f-40fd-9898-9f3abe574029 button');\n",
              "      quickchartButtonEl.style.display =\n",
              "        google.colab.kernel.accessAllowed ? 'block' : 'none';\n",
              "    })();\n",
              "  </script>\n",
              "</div>\n",
              "\n",
              "    </div>\n",
              "  </div>\n"
            ],
            "application/vnd.google.colaboratory.intrinsic+json": {
              "type": "dataframe",
              "variable_name": "df",
              "summary": "{\n  \"name\": \"df\",\n  \"rows\": 414,\n  \"fields\": [\n    {\n      \"column\": \"No\",\n      \"properties\": {\n        \"dtype\": \"number\",\n        \"std\": 119,\n        \"min\": 1,\n        \"max\": 414,\n        \"num_unique_values\": 414,\n        \"samples\": [\n          359,\n          351,\n          374\n        ],\n        \"semantic_type\": \"\",\n        \"description\": \"\"\n      }\n    },\n    {\n      \"column\": \"X1 transaction date\",\n      \"properties\": {\n        \"dtype\": \"number\",\n        \"std\": 0.2819672402630115,\n        \"min\": 2012.667,\n        \"max\": 2013.583,\n        \"num_unique_values\": 12,\n        \"samples\": [\n          2013.0,\n          2012.75,\n          2012.917\n        ],\n        \"semantic_type\": \"\",\n        \"description\": \"\"\n      }\n    },\n    {\n      \"column\": \"X2 house age\",\n      \"properties\": {\n        \"dtype\": \"number\",\n        \"std\": 11.39248453324253,\n        \"min\": 0.0,\n        \"max\": 43.8,\n        \"num_unique_values\": 236,\n        \"samples\": [\n          38.2,\n          3.4,\n          27.5\n        ],\n        \"semantic_type\": \"\",\n        \"description\": \"\"\n      }\n    },\n    {\n      \"column\": \"X3 distance to the nearest MRT station\",\n      \"properties\": {\n        \"dtype\": \"number\",\n        \"std\": 1262.1095954078512,\n        \"min\": 23.38284,\n        \"max\": 6488.021,\n        \"num_unique_values\": 259,\n        \"samples\": [\n          552.4371,\n          4605.749,\n          405.2134\n        ],\n        \"semantic_type\": \"\",\n        \"description\": \"\"\n      }\n    },\n    {\n      \"column\": \"X4 number of convenience stores\",\n      \"properties\": {\n        \"dtype\": \"number\",\n        \"std\": 2,\n        \"min\": 0,\n        \"max\": 10,\n        \"num_unique_values\": 11,\n        \"samples\": [\n          6,\n          10,\n          8\n        ],\n        \"semantic_type\": \"\",\n        \"description\": \"\"\n      }\n    },\n    {\n      \"column\": \"X5 latitude\",\n      \"properties\": {\n        \"dtype\": \"number\",\n        \"std\": 0.012410196590450338,\n        \"min\": 24.93207,\n        \"max\": 25.01459,\n        \"num_unique_values\": 234,\n        \"samples\": [\n          24.98573,\n          24.96143,\n          24.96696\n        ],\n        \"semantic_type\": \"\",\n        \"description\": \"\"\n      }\n    },\n    {\n      \"column\": \"X6 longitude\",\n      \"properties\": {\n        \"dtype\": \"number\",\n        \"std\": 0.015347183004592205,\n        \"min\": 121.47353,\n        \"max\": 121.56627,\n        \"num_unique_values\": 232,\n        \"samples\": [\n          121.54634,\n          121.50831,\n          121.53372\n        ],\n        \"semantic_type\": \"\",\n        \"description\": \"\"\n      }\n    },\n    {\n      \"column\": \"Y house price of unit area\",\n      \"properties\": {\n        \"dtype\": \"number\",\n        \"std\": 13.606487697735314,\n        \"min\": 7.6,\n        \"max\": 117.5,\n        \"num_unique_values\": 270,\n        \"samples\": [\n          25.0,\n          30.7,\n          18.3\n        ],\n        \"semantic_type\": \"\",\n        \"description\": \"\"\n      }\n    }\n  ]\n}"
            }
          },
          "metadata": {},
          "execution_count": 16
        }
      ],
      "source": [
        "# 2\n",
        "df.head(10)"
      ]
    },
    {
      "cell_type": "code",
      "execution_count": 17,
      "metadata": {
        "id": "WYXICVmkFgAo",
        "colab": {
          "base_uri": "https://localhost:8080/",
          "height": 317
        },
        "outputId": "4c38a780-0a07-473f-930f-8923d3ff32df"
      },
      "outputs": [
        {
          "output_type": "execute_result",
          "data": {
            "text/plain": [
              "               No  X1 transaction date  X2 house age  \\\n",
              "count  414.000000           414.000000    414.000000   \n",
              "mean   207.500000          2013.148971     17.712560   \n",
              "std    119.655756             0.281967     11.392485   \n",
              "min      1.000000          2012.667000      0.000000   \n",
              "25%    104.250000          2012.917000      9.025000   \n",
              "50%    207.500000          2013.167000     16.100000   \n",
              "75%    310.750000          2013.417000     28.150000   \n",
              "max    414.000000          2013.583000     43.800000   \n",
              "\n",
              "       X3 distance to the nearest MRT station  \\\n",
              "count                              414.000000   \n",
              "mean                              1083.885689   \n",
              "std                               1262.109595   \n",
              "min                                 23.382840   \n",
              "25%                                289.324800   \n",
              "50%                                492.231300   \n",
              "75%                               1454.279000   \n",
              "max                               6488.021000   \n",
              "\n",
              "       X4 number of convenience stores  X5 latitude  X6 longitude  \\\n",
              "count                       414.000000   414.000000    414.000000   \n",
              "mean                          4.094203    24.969030    121.533361   \n",
              "std                           2.945562     0.012410      0.015347   \n",
              "min                           0.000000    24.932070    121.473530   \n",
              "25%                           1.000000    24.963000    121.528085   \n",
              "50%                           4.000000    24.971100    121.538630   \n",
              "75%                           6.000000    24.977455    121.543305   \n",
              "max                          10.000000    25.014590    121.566270   \n",
              "\n",
              "       Y house price of unit area  \n",
              "count                  414.000000  \n",
              "mean                    37.980193  \n",
              "std                     13.606488  \n",
              "min                      7.600000  \n",
              "25%                     27.700000  \n",
              "50%                     38.450000  \n",
              "75%                     46.600000  \n",
              "max                    117.500000  "
            ],
            "text/html": [
              "\n",
              "  <div id=\"df-faa3dfb4-577d-47b9-a004-2553c3a72205\" class=\"colab-df-container\">\n",
              "    <div>\n",
              "<style scoped>\n",
              "    .dataframe tbody tr th:only-of-type {\n",
              "        vertical-align: middle;\n",
              "    }\n",
              "\n",
              "    .dataframe tbody tr th {\n",
              "        vertical-align: top;\n",
              "    }\n",
              "\n",
              "    .dataframe thead th {\n",
              "        text-align: right;\n",
              "    }\n",
              "</style>\n",
              "<table border=\"1\" class=\"dataframe\">\n",
              "  <thead>\n",
              "    <tr style=\"text-align: right;\">\n",
              "      <th></th>\n",
              "      <th>No</th>\n",
              "      <th>X1 transaction date</th>\n",
              "      <th>X2 house age</th>\n",
              "      <th>X3 distance to the nearest MRT station</th>\n",
              "      <th>X4 number of convenience stores</th>\n",
              "      <th>X5 latitude</th>\n",
              "      <th>X6 longitude</th>\n",
              "      <th>Y house price of unit area</th>\n",
              "    </tr>\n",
              "  </thead>\n",
              "  <tbody>\n",
              "    <tr>\n",
              "      <th>count</th>\n",
              "      <td>414.000000</td>\n",
              "      <td>414.000000</td>\n",
              "      <td>414.000000</td>\n",
              "      <td>414.000000</td>\n",
              "      <td>414.000000</td>\n",
              "      <td>414.000000</td>\n",
              "      <td>414.000000</td>\n",
              "      <td>414.000000</td>\n",
              "    </tr>\n",
              "    <tr>\n",
              "      <th>mean</th>\n",
              "      <td>207.500000</td>\n",
              "      <td>2013.148971</td>\n",
              "      <td>17.712560</td>\n",
              "      <td>1083.885689</td>\n",
              "      <td>4.094203</td>\n",
              "      <td>24.969030</td>\n",
              "      <td>121.533361</td>\n",
              "      <td>37.980193</td>\n",
              "    </tr>\n",
              "    <tr>\n",
              "      <th>std</th>\n",
              "      <td>119.655756</td>\n",
              "      <td>0.281967</td>\n",
              "      <td>11.392485</td>\n",
              "      <td>1262.109595</td>\n",
              "      <td>2.945562</td>\n",
              "      <td>0.012410</td>\n",
              "      <td>0.015347</td>\n",
              "      <td>13.606488</td>\n",
              "    </tr>\n",
              "    <tr>\n",
              "      <th>min</th>\n",
              "      <td>1.000000</td>\n",
              "      <td>2012.667000</td>\n",
              "      <td>0.000000</td>\n",
              "      <td>23.382840</td>\n",
              "      <td>0.000000</td>\n",
              "      <td>24.932070</td>\n",
              "      <td>121.473530</td>\n",
              "      <td>7.600000</td>\n",
              "    </tr>\n",
              "    <tr>\n",
              "      <th>25%</th>\n",
              "      <td>104.250000</td>\n",
              "      <td>2012.917000</td>\n",
              "      <td>9.025000</td>\n",
              "      <td>289.324800</td>\n",
              "      <td>1.000000</td>\n",
              "      <td>24.963000</td>\n",
              "      <td>121.528085</td>\n",
              "      <td>27.700000</td>\n",
              "    </tr>\n",
              "    <tr>\n",
              "      <th>50%</th>\n",
              "      <td>207.500000</td>\n",
              "      <td>2013.167000</td>\n",
              "      <td>16.100000</td>\n",
              "      <td>492.231300</td>\n",
              "      <td>4.000000</td>\n",
              "      <td>24.971100</td>\n",
              "      <td>121.538630</td>\n",
              "      <td>38.450000</td>\n",
              "    </tr>\n",
              "    <tr>\n",
              "      <th>75%</th>\n",
              "      <td>310.750000</td>\n",
              "      <td>2013.417000</td>\n",
              "      <td>28.150000</td>\n",
              "      <td>1454.279000</td>\n",
              "      <td>6.000000</td>\n",
              "      <td>24.977455</td>\n",
              "      <td>121.543305</td>\n",
              "      <td>46.600000</td>\n",
              "    </tr>\n",
              "    <tr>\n",
              "      <th>max</th>\n",
              "      <td>414.000000</td>\n",
              "      <td>2013.583000</td>\n",
              "      <td>43.800000</td>\n",
              "      <td>6488.021000</td>\n",
              "      <td>10.000000</td>\n",
              "      <td>25.014590</td>\n",
              "      <td>121.566270</td>\n",
              "      <td>117.500000</td>\n",
              "    </tr>\n",
              "  </tbody>\n",
              "</table>\n",
              "</div>\n",
              "    <div class=\"colab-df-buttons\">\n",
              "\n",
              "  <div class=\"colab-df-container\">\n",
              "    <button class=\"colab-df-convert\" onclick=\"convertToInteractive('df-faa3dfb4-577d-47b9-a004-2553c3a72205')\"\n",
              "            title=\"Convert this dataframe to an interactive table.\"\n",
              "            style=\"display:none;\">\n",
              "\n",
              "  <svg xmlns=\"http://www.w3.org/2000/svg\" height=\"24px\" viewBox=\"0 -960 960 960\">\n",
              "    <path d=\"M120-120v-720h720v720H120Zm60-500h600v-160H180v160Zm220 220h160v-160H400v160Zm0 220h160v-160H400v160ZM180-400h160v-160H180v160Zm440 0h160v-160H620v160ZM180-180h160v-160H180v160Zm440 0h160v-160H620v160Z\"/>\n",
              "  </svg>\n",
              "    </button>\n",
              "\n",
              "  <style>\n",
              "    .colab-df-container {\n",
              "      display:flex;\n",
              "      gap: 12px;\n",
              "    }\n",
              "\n",
              "    .colab-df-convert {\n",
              "      background-color: #E8F0FE;\n",
              "      border: none;\n",
              "      border-radius: 50%;\n",
              "      cursor: pointer;\n",
              "      display: none;\n",
              "      fill: #1967D2;\n",
              "      height: 32px;\n",
              "      padding: 0 0 0 0;\n",
              "      width: 32px;\n",
              "    }\n",
              "\n",
              "    .colab-df-convert:hover {\n",
              "      background-color: #E2EBFA;\n",
              "      box-shadow: 0px 1px 2px rgba(60, 64, 67, 0.3), 0px 1px 3px 1px rgba(60, 64, 67, 0.15);\n",
              "      fill: #174EA6;\n",
              "    }\n",
              "\n",
              "    .colab-df-buttons div {\n",
              "      margin-bottom: 4px;\n",
              "    }\n",
              "\n",
              "    [theme=dark] .colab-df-convert {\n",
              "      background-color: #3B4455;\n",
              "      fill: #D2E3FC;\n",
              "    }\n",
              "\n",
              "    [theme=dark] .colab-df-convert:hover {\n",
              "      background-color: #434B5C;\n",
              "      box-shadow: 0px 1px 3px 1px rgba(0, 0, 0, 0.15);\n",
              "      filter: drop-shadow(0px 1px 2px rgba(0, 0, 0, 0.3));\n",
              "      fill: #FFFFFF;\n",
              "    }\n",
              "  </style>\n",
              "\n",
              "    <script>\n",
              "      const buttonEl =\n",
              "        document.querySelector('#df-faa3dfb4-577d-47b9-a004-2553c3a72205 button.colab-df-convert');\n",
              "      buttonEl.style.display =\n",
              "        google.colab.kernel.accessAllowed ? 'block' : 'none';\n",
              "\n",
              "      async function convertToInteractive(key) {\n",
              "        const element = document.querySelector('#df-faa3dfb4-577d-47b9-a004-2553c3a72205');\n",
              "        const dataTable =\n",
              "          await google.colab.kernel.invokeFunction('convertToInteractive',\n",
              "                                                    [key], {});\n",
              "        if (!dataTable) return;\n",
              "\n",
              "        const docLinkHtml = 'Like what you see? Visit the ' +\n",
              "          '<a target=\"_blank\" href=https://colab.research.google.com/notebooks/data_table.ipynb>data table notebook</a>'\n",
              "          + ' to learn more about interactive tables.';\n",
              "        element.innerHTML = '';\n",
              "        dataTable['output_type'] = 'display_data';\n",
              "        await google.colab.output.renderOutput(dataTable, element);\n",
              "        const docLink = document.createElement('div');\n",
              "        docLink.innerHTML = docLinkHtml;\n",
              "        element.appendChild(docLink);\n",
              "      }\n",
              "    </script>\n",
              "  </div>\n",
              "\n",
              "\n",
              "<div id=\"df-1d662bb8-1904-4a90-9397-121486e33d40\">\n",
              "  <button class=\"colab-df-quickchart\" onclick=\"quickchart('df-1d662bb8-1904-4a90-9397-121486e33d40')\"\n",
              "            title=\"Suggest charts\"\n",
              "            style=\"display:none;\">\n",
              "\n",
              "<svg xmlns=\"http://www.w3.org/2000/svg\" height=\"24px\"viewBox=\"0 0 24 24\"\n",
              "     width=\"24px\">\n",
              "    <g>\n",
              "        <path d=\"M19 3H5c-1.1 0-2 .9-2 2v14c0 1.1.9 2 2 2h14c1.1 0 2-.9 2-2V5c0-1.1-.9-2-2-2zM9 17H7v-7h2v7zm4 0h-2V7h2v10zm4 0h-2v-4h2v4z\"/>\n",
              "    </g>\n",
              "</svg>\n",
              "  </button>\n",
              "\n",
              "<style>\n",
              "  .colab-df-quickchart {\n",
              "      --bg-color: #E8F0FE;\n",
              "      --fill-color: #1967D2;\n",
              "      --hover-bg-color: #E2EBFA;\n",
              "      --hover-fill-color: #174EA6;\n",
              "      --disabled-fill-color: #AAA;\n",
              "      --disabled-bg-color: #DDD;\n",
              "  }\n",
              "\n",
              "  [theme=dark] .colab-df-quickchart {\n",
              "      --bg-color: #3B4455;\n",
              "      --fill-color: #D2E3FC;\n",
              "      --hover-bg-color: #434B5C;\n",
              "      --hover-fill-color: #FFFFFF;\n",
              "      --disabled-bg-color: #3B4455;\n",
              "      --disabled-fill-color: #666;\n",
              "  }\n",
              "\n",
              "  .colab-df-quickchart {\n",
              "    background-color: var(--bg-color);\n",
              "    border: none;\n",
              "    border-radius: 50%;\n",
              "    cursor: pointer;\n",
              "    display: none;\n",
              "    fill: var(--fill-color);\n",
              "    height: 32px;\n",
              "    padding: 0;\n",
              "    width: 32px;\n",
              "  }\n",
              "\n",
              "  .colab-df-quickchart:hover {\n",
              "    background-color: var(--hover-bg-color);\n",
              "    box-shadow: 0 1px 2px rgba(60, 64, 67, 0.3), 0 1px 3px 1px rgba(60, 64, 67, 0.15);\n",
              "    fill: var(--button-hover-fill-color);\n",
              "  }\n",
              "\n",
              "  .colab-df-quickchart-complete:disabled,\n",
              "  .colab-df-quickchart-complete:disabled:hover {\n",
              "    background-color: var(--disabled-bg-color);\n",
              "    fill: var(--disabled-fill-color);\n",
              "    box-shadow: none;\n",
              "  }\n",
              "\n",
              "  .colab-df-spinner {\n",
              "    border: 2px solid var(--fill-color);\n",
              "    border-color: transparent;\n",
              "    border-bottom-color: var(--fill-color);\n",
              "    animation:\n",
              "      spin 1s steps(1) infinite;\n",
              "  }\n",
              "\n",
              "  @keyframes spin {\n",
              "    0% {\n",
              "      border-color: transparent;\n",
              "      border-bottom-color: var(--fill-color);\n",
              "      border-left-color: var(--fill-color);\n",
              "    }\n",
              "    20% {\n",
              "      border-color: transparent;\n",
              "      border-left-color: var(--fill-color);\n",
              "      border-top-color: var(--fill-color);\n",
              "    }\n",
              "    30% {\n",
              "      border-color: transparent;\n",
              "      border-left-color: var(--fill-color);\n",
              "      border-top-color: var(--fill-color);\n",
              "      border-right-color: var(--fill-color);\n",
              "    }\n",
              "    40% {\n",
              "      border-color: transparent;\n",
              "      border-right-color: var(--fill-color);\n",
              "      border-top-color: var(--fill-color);\n",
              "    }\n",
              "    60% {\n",
              "      border-color: transparent;\n",
              "      border-right-color: var(--fill-color);\n",
              "    }\n",
              "    80% {\n",
              "      border-color: transparent;\n",
              "      border-right-color: var(--fill-color);\n",
              "      border-bottom-color: var(--fill-color);\n",
              "    }\n",
              "    90% {\n",
              "      border-color: transparent;\n",
              "      border-bottom-color: var(--fill-color);\n",
              "    }\n",
              "  }\n",
              "</style>\n",
              "\n",
              "  <script>\n",
              "    async function quickchart(key) {\n",
              "      const quickchartButtonEl =\n",
              "        document.querySelector('#' + key + ' button');\n",
              "      quickchartButtonEl.disabled = true;  // To prevent multiple clicks.\n",
              "      quickchartButtonEl.classList.add('colab-df-spinner');\n",
              "      try {\n",
              "        const charts = await google.colab.kernel.invokeFunction(\n",
              "            'suggestCharts', [key], {});\n",
              "      } catch (error) {\n",
              "        console.error('Error during call to suggestCharts:', error);\n",
              "      }\n",
              "      quickchartButtonEl.classList.remove('colab-df-spinner');\n",
              "      quickchartButtonEl.classList.add('colab-df-quickchart-complete');\n",
              "    }\n",
              "    (() => {\n",
              "      let quickchartButtonEl =\n",
              "        document.querySelector('#df-1d662bb8-1904-4a90-9397-121486e33d40 button');\n",
              "      quickchartButtonEl.style.display =\n",
              "        google.colab.kernel.accessAllowed ? 'block' : 'none';\n",
              "    })();\n",
              "  </script>\n",
              "</div>\n",
              "\n",
              "    </div>\n",
              "  </div>\n"
            ],
            "application/vnd.google.colaboratory.intrinsic+json": {
              "type": "dataframe",
              "summary": "{\n  \"name\": \"df\",\n  \"rows\": 8,\n  \"fields\": [\n    {\n      \"column\": \"No\",\n      \"properties\": {\n        \"dtype\": \"number\",\n        \"std\": 148.9029346356823,\n        \"min\": 1.0,\n        \"max\": 414.0,\n        \"num_unique_values\": 6,\n        \"samples\": [\n          414.0,\n          207.5,\n          310.75\n        ],\n        \"semantic_type\": \"\",\n        \"description\": \"\"\n      }\n    },\n    {\n      \"column\": \"X1 transaction date\",\n      \"properties\": {\n        \"dtype\": \"number\",\n        \"std\": 843.3000378322719,\n        \"min\": 0.2819672402630115,\n        \"max\": 2013.583,\n        \"num_unique_values\": 8,\n        \"samples\": [\n          2013.1489710144926,\n          2013.167,\n          414.0\n        ],\n        \"semantic_type\": \"\",\n        \"description\": \"\"\n      }\n    },\n    {\n      \"column\": \"X2 house age\",\n      \"properties\": {\n        \"dtype\": \"number\",\n        \"std\": 140.61941367093425,\n        \"min\": 0.0,\n        \"max\": 414.0,\n        \"num_unique_values\": 8,\n        \"samples\": [\n          17.71256038647343,\n          16.1,\n          414.0\n        ],\n        \"semantic_type\": \"\",\n        \"description\": \"\"\n      }\n    },\n    {\n      \"column\": \"X3 distance to the nearest MRT station\",\n      \"properties\": {\n        \"dtype\": \"number\",\n        \"std\": 2101.800623848225,\n        \"min\": 23.38284,\n        \"max\": 6488.021,\n        \"num_unique_values\": 8,\n        \"samples\": [\n          1083.8856889130436,\n          492.2313,\n          414.0\n        ],\n        \"semantic_type\": \"\",\n        \"description\": \"\"\n      }\n    },\n    {\n      \"column\": \"X4 number of convenience stores\",\n      \"properties\": {\n        \"dtype\": \"number\",\n        \"std\": 144.9874598687052,\n        \"min\": 0.0,\n        \"max\": 414.0,\n        \"num_unique_values\": 8,\n        \"samples\": [\n          4.094202898550725,\n          4.0,\n          414.0\n        ],\n        \"semantic_type\": \"\",\n        \"description\": \"\"\n      }\n    },\n    {\n      \"column\": \"X5 latitude\",\n      \"properties\": {\n        \"dtype\": \"number\",\n        \"std\": 139.0775612485308,\n        \"min\": 0.012410196590450338,\n        \"max\": 414.0,\n        \"num_unique_values\": 8,\n        \"samples\": [\n          24.969030072463767,\n          24.9711,\n          414.0\n        ],\n        \"semantic_type\": \"\",\n        \"description\": \"\"\n      }\n    },\n    {\n      \"column\": \"X6 longitude\",\n      \"properties\": {\n        \"dtype\": \"number\",\n        \"std\": 117.5045070391186,\n        \"min\": 0.015347183004592205,\n        \"max\": 414.0,\n        \"num_unique_values\": 8,\n        \"samples\": [\n          121.53336108695655,\n          121.53863,\n          414.0\n        ],\n        \"semantic_type\": \"\",\n        \"description\": \"\"\n      }\n    },\n    {\n      \"column\": \"Y house price of unit area\",\n      \"properties\": {\n        \"dtype\": \"number\",\n        \"std\": 135.98949464428566,\n        \"min\": 7.6,\n        \"max\": 414.0,\n        \"num_unique_values\": 8,\n        \"samples\": [\n          37.980193236714975,\n          38.45,\n          414.0\n        ],\n        \"semantic_type\": \"\",\n        \"description\": \"\"\n      }\n    }\n  ]\n}"
            }
          },
          "metadata": {},
          "execution_count": 17
        }
      ],
      "source": [
        "# 3\n",
        "df.describe()"
      ]
    },
    {
      "cell_type": "code",
      "execution_count": 18,
      "metadata": {
        "id": "v1scoJ2bFraH",
        "colab": {
          "base_uri": "https://localhost:8080/",
          "height": 383
        },
        "outputId": "dde9f6f8-4bc3-490c-950f-d748876bd615"
      },
      "outputs": [
        {
          "output_type": "execute_result",
          "data": {
            "text/plain": [
              "   transaction_date  house_age  distance_to_the_nearest_MRT_station  \\\n",
              "0          2012.917       32.0                             84.87882   \n",
              "1          2012.917       19.5                            306.59470   \n",
              "2          2013.583       13.3                            561.98450   \n",
              "3          2013.500       13.3                            561.98450   \n",
              "4          2012.833        5.0                            390.56840   \n",
              "5          2012.667        7.1                           2175.03000   \n",
              "6          2012.667       34.5                            623.47310   \n",
              "7          2013.417       20.3                            287.60250   \n",
              "8          2013.500       31.7                           5512.03800   \n",
              "9          2013.417       17.9                           1783.18000   \n",
              "\n",
              "   number_of_convinience_stores  latitude  longitude  house_price_of_unit_area  \n",
              "0                            10  24.98298  121.54024                      37.9  \n",
              "1                             9  24.98034  121.53951                      42.2  \n",
              "2                             5  24.98746  121.54391                      47.3  \n",
              "3                             5  24.98746  121.54391                      54.8  \n",
              "4                             5  24.97937  121.54245                      43.1  \n",
              "5                             3  24.96305  121.51254                      32.1  \n",
              "6                             7  24.97933  121.53642                      40.3  \n",
              "7                             6  24.98042  121.54228                      46.7  \n",
              "8                             1  24.95095  121.48458                      18.8  \n",
              "9                             3  24.96731  121.51486                      22.1  "
            ],
            "text/html": [
              "\n",
              "  <div id=\"df-75cc9230-71f6-4a41-a44b-5852d5e5e489\" class=\"colab-df-container\">\n",
              "    <div>\n",
              "<style scoped>\n",
              "    .dataframe tbody tr th:only-of-type {\n",
              "        vertical-align: middle;\n",
              "    }\n",
              "\n",
              "    .dataframe tbody tr th {\n",
              "        vertical-align: top;\n",
              "    }\n",
              "\n",
              "    .dataframe thead th {\n",
              "        text-align: right;\n",
              "    }\n",
              "</style>\n",
              "<table border=\"1\" class=\"dataframe\">\n",
              "  <thead>\n",
              "    <tr style=\"text-align: right;\">\n",
              "      <th></th>\n",
              "      <th>transaction_date</th>\n",
              "      <th>house_age</th>\n",
              "      <th>distance_to_the_nearest_MRT_station</th>\n",
              "      <th>number_of_convinience_stores</th>\n",
              "      <th>latitude</th>\n",
              "      <th>longitude</th>\n",
              "      <th>house_price_of_unit_area</th>\n",
              "    </tr>\n",
              "  </thead>\n",
              "  <tbody>\n",
              "    <tr>\n",
              "      <th>0</th>\n",
              "      <td>2012.917</td>\n",
              "      <td>32.0</td>\n",
              "      <td>84.87882</td>\n",
              "      <td>10</td>\n",
              "      <td>24.98298</td>\n",
              "      <td>121.54024</td>\n",
              "      <td>37.9</td>\n",
              "    </tr>\n",
              "    <tr>\n",
              "      <th>1</th>\n",
              "      <td>2012.917</td>\n",
              "      <td>19.5</td>\n",
              "      <td>306.59470</td>\n",
              "      <td>9</td>\n",
              "      <td>24.98034</td>\n",
              "      <td>121.53951</td>\n",
              "      <td>42.2</td>\n",
              "    </tr>\n",
              "    <tr>\n",
              "      <th>2</th>\n",
              "      <td>2013.583</td>\n",
              "      <td>13.3</td>\n",
              "      <td>561.98450</td>\n",
              "      <td>5</td>\n",
              "      <td>24.98746</td>\n",
              "      <td>121.54391</td>\n",
              "      <td>47.3</td>\n",
              "    </tr>\n",
              "    <tr>\n",
              "      <th>3</th>\n",
              "      <td>2013.500</td>\n",
              "      <td>13.3</td>\n",
              "      <td>561.98450</td>\n",
              "      <td>5</td>\n",
              "      <td>24.98746</td>\n",
              "      <td>121.54391</td>\n",
              "      <td>54.8</td>\n",
              "    </tr>\n",
              "    <tr>\n",
              "      <th>4</th>\n",
              "      <td>2012.833</td>\n",
              "      <td>5.0</td>\n",
              "      <td>390.56840</td>\n",
              "      <td>5</td>\n",
              "      <td>24.97937</td>\n",
              "      <td>121.54245</td>\n",
              "      <td>43.1</td>\n",
              "    </tr>\n",
              "    <tr>\n",
              "      <th>5</th>\n",
              "      <td>2012.667</td>\n",
              "      <td>7.1</td>\n",
              "      <td>2175.03000</td>\n",
              "      <td>3</td>\n",
              "      <td>24.96305</td>\n",
              "      <td>121.51254</td>\n",
              "      <td>32.1</td>\n",
              "    </tr>\n",
              "    <tr>\n",
              "      <th>6</th>\n",
              "      <td>2012.667</td>\n",
              "      <td>34.5</td>\n",
              "      <td>623.47310</td>\n",
              "      <td>7</td>\n",
              "      <td>24.97933</td>\n",
              "      <td>121.53642</td>\n",
              "      <td>40.3</td>\n",
              "    </tr>\n",
              "    <tr>\n",
              "      <th>7</th>\n",
              "      <td>2013.417</td>\n",
              "      <td>20.3</td>\n",
              "      <td>287.60250</td>\n",
              "      <td>6</td>\n",
              "      <td>24.98042</td>\n",
              "      <td>121.54228</td>\n",
              "      <td>46.7</td>\n",
              "    </tr>\n",
              "    <tr>\n",
              "      <th>8</th>\n",
              "      <td>2013.500</td>\n",
              "      <td>31.7</td>\n",
              "      <td>5512.03800</td>\n",
              "      <td>1</td>\n",
              "      <td>24.95095</td>\n",
              "      <td>121.48458</td>\n",
              "      <td>18.8</td>\n",
              "    </tr>\n",
              "    <tr>\n",
              "      <th>9</th>\n",
              "      <td>2013.417</td>\n",
              "      <td>17.9</td>\n",
              "      <td>1783.18000</td>\n",
              "      <td>3</td>\n",
              "      <td>24.96731</td>\n",
              "      <td>121.51486</td>\n",
              "      <td>22.1</td>\n",
              "    </tr>\n",
              "  </tbody>\n",
              "</table>\n",
              "</div>\n",
              "    <div class=\"colab-df-buttons\">\n",
              "\n",
              "  <div class=\"colab-df-container\">\n",
              "    <button class=\"colab-df-convert\" onclick=\"convertToInteractive('df-75cc9230-71f6-4a41-a44b-5852d5e5e489')\"\n",
              "            title=\"Convert this dataframe to an interactive table.\"\n",
              "            style=\"display:none;\">\n",
              "\n",
              "  <svg xmlns=\"http://www.w3.org/2000/svg\" height=\"24px\" viewBox=\"0 -960 960 960\">\n",
              "    <path d=\"M120-120v-720h720v720H120Zm60-500h600v-160H180v160Zm220 220h160v-160H400v160Zm0 220h160v-160H400v160ZM180-400h160v-160H180v160Zm440 0h160v-160H620v160ZM180-180h160v-160H180v160Zm440 0h160v-160H620v160Z\"/>\n",
              "  </svg>\n",
              "    </button>\n",
              "\n",
              "  <style>\n",
              "    .colab-df-container {\n",
              "      display:flex;\n",
              "      gap: 12px;\n",
              "    }\n",
              "\n",
              "    .colab-df-convert {\n",
              "      background-color: #E8F0FE;\n",
              "      border: none;\n",
              "      border-radius: 50%;\n",
              "      cursor: pointer;\n",
              "      display: none;\n",
              "      fill: #1967D2;\n",
              "      height: 32px;\n",
              "      padding: 0 0 0 0;\n",
              "      width: 32px;\n",
              "    }\n",
              "\n",
              "    .colab-df-convert:hover {\n",
              "      background-color: #E2EBFA;\n",
              "      box-shadow: 0px 1px 2px rgba(60, 64, 67, 0.3), 0px 1px 3px 1px rgba(60, 64, 67, 0.15);\n",
              "      fill: #174EA6;\n",
              "    }\n",
              "\n",
              "    .colab-df-buttons div {\n",
              "      margin-bottom: 4px;\n",
              "    }\n",
              "\n",
              "    [theme=dark] .colab-df-convert {\n",
              "      background-color: #3B4455;\n",
              "      fill: #D2E3FC;\n",
              "    }\n",
              "\n",
              "    [theme=dark] .colab-df-convert:hover {\n",
              "      background-color: #434B5C;\n",
              "      box-shadow: 0px 1px 3px 1px rgba(0, 0, 0, 0.15);\n",
              "      filter: drop-shadow(0px 1px 2px rgba(0, 0, 0, 0.3));\n",
              "      fill: #FFFFFF;\n",
              "    }\n",
              "  </style>\n",
              "\n",
              "    <script>\n",
              "      const buttonEl =\n",
              "        document.querySelector('#df-75cc9230-71f6-4a41-a44b-5852d5e5e489 button.colab-df-convert');\n",
              "      buttonEl.style.display =\n",
              "        google.colab.kernel.accessAllowed ? 'block' : 'none';\n",
              "\n",
              "      async function convertToInteractive(key) {\n",
              "        const element = document.querySelector('#df-75cc9230-71f6-4a41-a44b-5852d5e5e489');\n",
              "        const dataTable =\n",
              "          await google.colab.kernel.invokeFunction('convertToInteractive',\n",
              "                                                    [key], {});\n",
              "        if (!dataTable) return;\n",
              "\n",
              "        const docLinkHtml = 'Like what you see? Visit the ' +\n",
              "          '<a target=\"_blank\" href=https://colab.research.google.com/notebooks/data_table.ipynb>data table notebook</a>'\n",
              "          + ' to learn more about interactive tables.';\n",
              "        element.innerHTML = '';\n",
              "        dataTable['output_type'] = 'display_data';\n",
              "        await google.colab.output.renderOutput(dataTable, element);\n",
              "        const docLink = document.createElement('div');\n",
              "        docLink.innerHTML = docLinkHtml;\n",
              "        element.appendChild(docLink);\n",
              "      }\n",
              "    </script>\n",
              "  </div>\n",
              "\n",
              "\n",
              "<div id=\"df-f3bba4a3-7258-4a8a-b742-dc02f71a0f45\">\n",
              "  <button class=\"colab-df-quickchart\" onclick=\"quickchart('df-f3bba4a3-7258-4a8a-b742-dc02f71a0f45')\"\n",
              "            title=\"Suggest charts\"\n",
              "            style=\"display:none;\">\n",
              "\n",
              "<svg xmlns=\"http://www.w3.org/2000/svg\" height=\"24px\"viewBox=\"0 0 24 24\"\n",
              "     width=\"24px\">\n",
              "    <g>\n",
              "        <path d=\"M19 3H5c-1.1 0-2 .9-2 2v14c0 1.1.9 2 2 2h14c1.1 0 2-.9 2-2V5c0-1.1-.9-2-2-2zM9 17H7v-7h2v7zm4 0h-2V7h2v10zm4 0h-2v-4h2v4z\"/>\n",
              "    </g>\n",
              "</svg>\n",
              "  </button>\n",
              "\n",
              "<style>\n",
              "  .colab-df-quickchart {\n",
              "      --bg-color: #E8F0FE;\n",
              "      --fill-color: #1967D2;\n",
              "      --hover-bg-color: #E2EBFA;\n",
              "      --hover-fill-color: #174EA6;\n",
              "      --disabled-fill-color: #AAA;\n",
              "      --disabled-bg-color: #DDD;\n",
              "  }\n",
              "\n",
              "  [theme=dark] .colab-df-quickchart {\n",
              "      --bg-color: #3B4455;\n",
              "      --fill-color: #D2E3FC;\n",
              "      --hover-bg-color: #434B5C;\n",
              "      --hover-fill-color: #FFFFFF;\n",
              "      --disabled-bg-color: #3B4455;\n",
              "      --disabled-fill-color: #666;\n",
              "  }\n",
              "\n",
              "  .colab-df-quickchart {\n",
              "    background-color: var(--bg-color);\n",
              "    border: none;\n",
              "    border-radius: 50%;\n",
              "    cursor: pointer;\n",
              "    display: none;\n",
              "    fill: var(--fill-color);\n",
              "    height: 32px;\n",
              "    padding: 0;\n",
              "    width: 32px;\n",
              "  }\n",
              "\n",
              "  .colab-df-quickchart:hover {\n",
              "    background-color: var(--hover-bg-color);\n",
              "    box-shadow: 0 1px 2px rgba(60, 64, 67, 0.3), 0 1px 3px 1px rgba(60, 64, 67, 0.15);\n",
              "    fill: var(--button-hover-fill-color);\n",
              "  }\n",
              "\n",
              "  .colab-df-quickchart-complete:disabled,\n",
              "  .colab-df-quickchart-complete:disabled:hover {\n",
              "    background-color: var(--disabled-bg-color);\n",
              "    fill: var(--disabled-fill-color);\n",
              "    box-shadow: none;\n",
              "  }\n",
              "\n",
              "  .colab-df-spinner {\n",
              "    border: 2px solid var(--fill-color);\n",
              "    border-color: transparent;\n",
              "    border-bottom-color: var(--fill-color);\n",
              "    animation:\n",
              "      spin 1s steps(1) infinite;\n",
              "  }\n",
              "\n",
              "  @keyframes spin {\n",
              "    0% {\n",
              "      border-color: transparent;\n",
              "      border-bottom-color: var(--fill-color);\n",
              "      border-left-color: var(--fill-color);\n",
              "    }\n",
              "    20% {\n",
              "      border-color: transparent;\n",
              "      border-left-color: var(--fill-color);\n",
              "      border-top-color: var(--fill-color);\n",
              "    }\n",
              "    30% {\n",
              "      border-color: transparent;\n",
              "      border-left-color: var(--fill-color);\n",
              "      border-top-color: var(--fill-color);\n",
              "      border-right-color: var(--fill-color);\n",
              "    }\n",
              "    40% {\n",
              "      border-color: transparent;\n",
              "      border-right-color: var(--fill-color);\n",
              "      border-top-color: var(--fill-color);\n",
              "    }\n",
              "    60% {\n",
              "      border-color: transparent;\n",
              "      border-right-color: var(--fill-color);\n",
              "    }\n",
              "    80% {\n",
              "      border-color: transparent;\n",
              "      border-right-color: var(--fill-color);\n",
              "      border-bottom-color: var(--fill-color);\n",
              "    }\n",
              "    90% {\n",
              "      border-color: transparent;\n",
              "      border-bottom-color: var(--fill-color);\n",
              "    }\n",
              "  }\n",
              "</style>\n",
              "\n",
              "  <script>\n",
              "    async function quickchart(key) {\n",
              "      const quickchartButtonEl =\n",
              "        document.querySelector('#' + key + ' button');\n",
              "      quickchartButtonEl.disabled = true;  // To prevent multiple clicks.\n",
              "      quickchartButtonEl.classList.add('colab-df-spinner');\n",
              "      try {\n",
              "        const charts = await google.colab.kernel.invokeFunction(\n",
              "            'suggestCharts', [key], {});\n",
              "      } catch (error) {\n",
              "        console.error('Error during call to suggestCharts:', error);\n",
              "      }\n",
              "      quickchartButtonEl.classList.remove('colab-df-spinner');\n",
              "      quickchartButtonEl.classList.add('colab-df-quickchart-complete');\n",
              "    }\n",
              "    (() => {\n",
              "      let quickchartButtonEl =\n",
              "        document.querySelector('#df-f3bba4a3-7258-4a8a-b742-dc02f71a0f45 button');\n",
              "      quickchartButtonEl.style.display =\n",
              "        google.colab.kernel.accessAllowed ? 'block' : 'none';\n",
              "    })();\n",
              "  </script>\n",
              "</div>\n",
              "\n",
              "    </div>\n",
              "  </div>\n"
            ],
            "application/vnd.google.colaboratory.intrinsic+json": {
              "type": "dataframe",
              "variable_name": "df",
              "summary": "{\n  \"name\": \"df\",\n  \"rows\": 414,\n  \"fields\": [\n    {\n      \"column\": \"transaction_date\",\n      \"properties\": {\n        \"dtype\": \"number\",\n        \"std\": 0.2819672402630115,\n        \"min\": 2012.667,\n        \"max\": 2013.583,\n        \"num_unique_values\": 12,\n        \"samples\": [\n          2013.0,\n          2012.75,\n          2012.917\n        ],\n        \"semantic_type\": \"\",\n        \"description\": \"\"\n      }\n    },\n    {\n      \"column\": \"house_age\",\n      \"properties\": {\n        \"dtype\": \"number\",\n        \"std\": 11.39248453324253,\n        \"min\": 0.0,\n        \"max\": 43.8,\n        \"num_unique_values\": 236,\n        \"samples\": [\n          38.2,\n          3.4,\n          27.5\n        ],\n        \"semantic_type\": \"\",\n        \"description\": \"\"\n      }\n    },\n    {\n      \"column\": \"distance_to_the_nearest_MRT_station\",\n      \"properties\": {\n        \"dtype\": \"number\",\n        \"std\": 1262.1095954078512,\n        \"min\": 23.38284,\n        \"max\": 6488.021,\n        \"num_unique_values\": 259,\n        \"samples\": [\n          552.4371,\n          4605.749,\n          405.2134\n        ],\n        \"semantic_type\": \"\",\n        \"description\": \"\"\n      }\n    },\n    {\n      \"column\": \"number_of_convinience_stores\",\n      \"properties\": {\n        \"dtype\": \"number\",\n        \"std\": 2,\n        \"min\": 0,\n        \"max\": 10,\n        \"num_unique_values\": 11,\n        \"samples\": [\n          6,\n          10,\n          8\n        ],\n        \"semantic_type\": \"\",\n        \"description\": \"\"\n      }\n    },\n    {\n      \"column\": \"latitude\",\n      \"properties\": {\n        \"dtype\": \"number\",\n        \"std\": 0.012410196590450338,\n        \"min\": 24.93207,\n        \"max\": 25.01459,\n        \"num_unique_values\": 234,\n        \"samples\": [\n          24.98573,\n          24.96143,\n          24.96696\n        ],\n        \"semantic_type\": \"\",\n        \"description\": \"\"\n      }\n    },\n    {\n      \"column\": \"longitude\",\n      \"properties\": {\n        \"dtype\": \"number\",\n        \"std\": 0.015347183004592205,\n        \"min\": 121.47353,\n        \"max\": 121.56627,\n        \"num_unique_values\": 232,\n        \"samples\": [\n          121.54634,\n          121.50831,\n          121.53372\n        ],\n        \"semantic_type\": \"\",\n        \"description\": \"\"\n      }\n    },\n    {\n      \"column\": \"house_price_of_unit_area\",\n      \"properties\": {\n        \"dtype\": \"number\",\n        \"std\": 13.606487697735314,\n        \"min\": 7.6,\n        \"max\": 117.5,\n        \"num_unique_values\": 270,\n        \"samples\": [\n          25.0,\n          30.7,\n          18.3\n        ],\n        \"semantic_type\": \"\",\n        \"description\": \"\"\n      }\n    }\n  ]\n}"
            }
          },
          "metadata": {},
          "execution_count": 18
        }
      ],
      "source": [
        "# 4\n",
        "df = df.drop(columns=['No'])\n",
        "df.columns = [\n",
        "    'transaction_date',\n",
        "    'house_age',\n",
        "    'distance_to_the_nearest_MRT_station',\n",
        "    'number_of_convinience_stores',\n",
        "    'latitude',\n",
        "    'longitude',\n",
        "    'house_price_of_unit_area'\n",
        "]\n",
        "\n",
        "df.head(10)"
      ]
    },
    {
      "cell_type": "code",
      "execution_count": 19,
      "metadata": {
        "id": "O_EVut8-GE7b",
        "colab": {
          "base_uri": "https://localhost:8080/"
        },
        "outputId": "49c0dc48-b7e8-4082-c29f-2f9bacd7cde8"
      },
      "outputs": [
        {
          "output_type": "stream",
          "name": "stdout",
          "text": [
            "transaction_date                       0\n",
            "house_age                              0\n",
            "distance_to_the_nearest_MRT_station    0\n",
            "number_of_convinience_stores           0\n",
            "latitude                               0\n",
            "longitude                              0\n",
            "house_price_of_unit_area               0\n",
            "dtype: int64\n"
          ]
        }
      ],
      "source": [
        "# 5\n",
        "missing_values = df.isnull().sum()\n",
        "print(missing_values)"
      ]
    }
  ],
  "metadata": {
    "colab": {
      "provenance": []
    },
    "kernelspec": {
      "display_name": "Python 3 (ipykernel)",
      "language": "python",
      "name": "python3"
    },
    "language_info": {
      "codemirror_mode": {
        "name": "ipython",
        "version": 3
      },
      "file_extension": ".py",
      "mimetype": "text/x-python",
      "name": "python",
      "nbconvert_exporter": "python",
      "pygments_lexer": "ipython3",
      "version": "3.9.12"
    }
  },
  "nbformat": 4,
  "nbformat_minor": 0
}